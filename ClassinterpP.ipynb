{
  "nbformat": 4,
  "nbformat_minor": 0,
  "metadata": {
    "colab": {
      "provenance": [],
      "authorship_tag": "ABX9TyPuo2clJBYaoZU9HI9BLE9J",
      "include_colab_link": true
    },
    "kernelspec": {
      "name": "python3",
      "display_name": "Python 3"
    },
    "language_info": {
      "name": "python"
    }
  },
  "cells": [
    {
      "cell_type": "markdown",
      "metadata": {
        "id": "view-in-github",
        "colab_type": "text"
      },
      "source": [
        "<a href=\"https://colab.research.google.com/github/michaelchaupis23/Blog-de-MichaelChaupis/blob/master/ClassinterpP.ipynb\" target=\"_parent\"><img src=\"https://colab.research.google.com/assets/colab-badge.svg\" alt=\"Open In Colab\"/></a>"
      ]
    },
    {
      "cell_type": "code",
      "execution_count": 22,
      "metadata": {
        "colab": {
          "base_uri": "https://localhost:8080/"
        },
        "id": "yf8ggMNkhpCg",
        "outputId": "5ebf9b42-dcd0-4b20-ecd3-74d8e00d8b45"
      },
      "outputs": [
        {
          "output_type": "stream",
          "name": "stdout",
          "text": [
            "Ingrese la cantidad de galones surtidos: 590\n",
            "El monto a pagar es: S/. 33497.25\n"
          ]
        }
      ],
      "source": [
        "def calcular_cobro(galones):\n",
        "    return galones * 56.775  # 3.785 * 15\n",
        "\n",
        "# Entrada del usuario y mostrar resultado en una sola línea\n",
        "print(f\"El monto a pagar es: S/. {calcular_cobro(float(input('Ingrese la cantidad de galones surtidos: ')))}\")"
      ]
    },
    {
      "cell_type": "code",
      "source": [
        "# Entrada de tiempos para lunes, miércoles y viernes\n",
        "tiempo_lunes = int(input(\"Ingrese el tiempo del lunes (minutos): \"))\n",
        "tiempo_miercoles = int(input(\"Ingrese el tiempo del miércoles (minutos): \"))\n",
        "tiempo_viernes = int(input(\"Ingrese el tiempo del viernes (minutos): \"))\n",
        "\n",
        "# Calcular el promedio\n",
        "promedio = (tiempo_lunes + tiempo_miercoles + tiempo_viernes) / 3\n",
        "\n",
        "# Mostrar resultado\n",
        "print(f\"El tiempo promedio en la semana es: {promedio:.2f} minutos\")\n"
      ],
      "metadata": {
        "colab": {
          "base_uri": "https://localhost:8080/"
        },
        "id": "ppNDHnizrgGZ",
        "outputId": "19ff1338-e534-4025-d026-b5c18ac08725"
      },
      "execution_count": 26,
      "outputs": [
        {
          "output_type": "stream",
          "name": "stdout",
          "text": [
            "Ingrese el tiempo del lunes (minutos): 120\n",
            "Ingrese el tiempo del miércoles (minutos): 120\n",
            "Ingrese el tiempo del viernes (minutos): 20\n",
            "El tiempo promedio en la semana es: 86.67 minutos\n"
          ]
        }
      ]
    },
    {
      "cell_type": "code",
      "source": [
        "def calcular_cds_necesarios(capacidad_gb):\n",
        "    return (capacidad_gb * 1024 + 699) // 700  # Redondeo hacia arriba\n",
        "\n",
        "# Entrada del usuario\n",
        "capacidad_gb = float(input(\"Ingrese la capacidad del disco duro en GB: \"))\n",
        "\n",
        "# Mostrar resultado\n",
        "print(f\"Número de CDs necesarios: {calcular_cds_necesarios(capacidad_gb)}\")"
      ],
      "metadata": {
        "colab": {
          "base_uri": "https://localhost:8080/"
        },
        "id": "7bH-HXh1rGt5",
        "outputId": "46326183-6dc4-4445-afe4-7bcf98f2705d"
      },
      "execution_count": 20,
      "outputs": [
        {
          "output_type": "stream",
          "name": "stdout",
          "text": [
            "Ingrese la capacidad del disco duro en GB: 100\n",
            "Número de CDs necesarios: 147.0\n"
          ]
        }
      ]
    },
    {
      "cell_type": "code",
      "source": [
        "monto_prestamo = float(input(\"Ingrese el monto del préstamo: \"))\n",
        "print(f\"Monto total a pagar: S/. {monto_prestamo * 1.24}\\n\"\n",
        "      f\"Monto de cada cuota especial: S/. {monto_prestamo * 1.24 / 8}\\n\"\n",
        "      f\"Monto de cada cuota ordinaria: S/. {monto_prestamo * 1.24 / 40}\")"
      ],
      "metadata": {
        "colab": {
          "base_uri": "https://localhost:8080/"
        },
        "id": "-RrBewuXrG1Z",
        "outputId": "2a2d8fdf-9e56-4e36-b1d3-183a82888364"
      },
      "execution_count": 18,
      "outputs": [
        {
          "output_type": "stream",
          "name": "stdout",
          "text": [
            "Ingrese el monto del préstamo: 2000\n",
            "Monto total a pagar: S/. 2480.0\n",
            "Monto de cada cuota especial: S/. 310.0\n",
            "Monto de cada cuota ordinaria: S/. 62.0\n"
          ]
        }
      ]
    },
    {
      "cell_type": "code",
      "source": [
        "nombre = input(\"Ingrese su nombre:\")\n",
        "edad=int(input(\"Ingrese su edad:\"))\n",
        "print(\"Hola\" + nombre)\n",
        "if edad >18:\n",
        "    print(\"Usted debe tramitar ante el RENIEC su DNI\")\n",
        "\n",
        "else:\n",
        "  print(\"Usted está pequeño\")"
      ],
      "metadata": {
        "colab": {
          "base_uri": "https://localhost:8080/"
        },
        "id": "GsExNcDq7I4X",
        "outputId": "716bd9cf-7f4d-4dc1-f095-cc19b1953c0a"
      },
      "execution_count": 63,
      "outputs": [
        {
          "output_type": "stream",
          "name": "stdout",
          "text": [
            "Ingrese su nombre:MIchael\n",
            "Ingrese su edad:5\n",
            "HolaMIchael\n",
            "Usted está pequeño\n"
          ]
        }
      ]
    },
    {
      "cell_type": "code",
      "source": [
        "num= input(\"Ingrese un numero\")\n",
        "num=int(num)\n",
        "if num>0:\n",
        "  print(\"positivo\")\n",
        "elif num<0:\n",
        "  print(\"Negativo\")\n",
        "else:\n",
        "  print(\"Es cero\")"
      ],
      "metadata": {
        "colab": {
          "base_uri": "https://localhost:8080/"
        },
        "id": "P5nFJdbv7mu2",
        "outputId": "97fcbb24-687e-4b53-d2ef-f9c7d7a4ebfd"
      },
      "execution_count": 64,
      "outputs": [
        {
          "output_type": "stream",
          "name": "stdout",
          "text": [
            "Ingrese un numero-7\n",
            "Negativo\n"
          ]
        }
      ]
    },
    {
      "cell_type": "code",
      "source": [
        "nf=input(\"Ingrese nota final: \")\n",
        "nf=int(nf)\n",
        "if 0<=nf<=59:\n",
        "  print(\"Tu calificación es F\")\n",
        "elif 59<=nf<=69:\n",
        "  print(\"Tu calificación es D\")\n",
        "elif 70<=nf<=79:\n",
        "  print(\"Tu calificación es C\")\n",
        "elif 80<=nf<=89:\n",
        "  print(\"Tu calificación es B\")\n",
        "elif 90<=nf<=100:\n",
        "  print(\"Tu calificación es A\")\n",
        "\n",
        "else:\n",
        "  print(\"El numero ingresado no está en el rango establecio\")"
      ],
      "metadata": {
        "colab": {
          "base_uri": "https://localhost:8080/"
        },
        "id": "5i2W_HLtAkpZ",
        "outputId": "c1da8993-27f6-4403-eea4-da008d4455bb"
      },
      "execution_count": 78,
      "outputs": [
        {
          "output_type": "stream",
          "name": "stdout",
          "text": [
            "Ingrese nota final: 120\n",
            "El numero ingresado no está en el rango establecio\n"
          ]
        }
      ]
    },
    {
      "cell_type": "code",
      "source": [
        "n1= float(input(\"Ingresa el primer numero: \"))\n",
        "n2= float(input(\"Ingresa el segundo numero:\"))\n",
        "n3= float(input(\"Ingresa el tercer numero: \"))\n",
        "n4= float(input(\"Ingresa el cuarto numero: \"))\n",
        "\n",
        "menor=min(n1,n2,n3,n4)\n",
        "mayor=max(n1,n2,n3,n4)\n",
        "\n",
        "print(f\"El numero menor es: {menor}\")\n",
        "print(f\"El numero mayor es: {mayor}\")"
      ],
      "metadata": {
        "colab": {
          "base_uri": "https://localhost:8080/"
        },
        "id": "KcN3GkPbDBHC",
        "outputId": "71332e5c-0678-4338-8aba-c137237f4416"
      },
      "execution_count": 82,
      "outputs": [
        {
          "output_type": "stream",
          "name": "stdout",
          "text": [
            "Ingresa el primer numero: 121\n",
            "Ingresa el segundo numero:203\n",
            "Ingresa el tercer numero: 15\n",
            "Ingresa el cuarto numero: 10\n",
            "El numero menor es: 10.0\n",
            "El numero mayor es: 203.0\n"
          ]
        }
      ]
    },
    {
      "cell_type": "code",
      "source": [
        "n = int(input(\"Ingresa un numero: \"))\n",
        "if n % 2 ==0:\n",
        "  print(f\"El numero es divisible por 2\")\n",
        "if n % 3 == 0 :\n",
        "  print(f\"El numero es divisible por 3\")\n",
        "if n % 5 == 0 :\n",
        "  print(f\"El numero es divisible por 5\")\n",
        "if n%2 !=0 and n %3 !=0 and n %5 !=0:\n",
        "  print(f\"El numero no es divisible por 2,3 o 5\")"
      ],
      "metadata": {
        "colab": {
          "base_uri": "https://localhost:8080/"
        },
        "id": "DcUksGdfGM_E",
        "outputId": "e1b840ba-e06e-4202-fa02-0a02c1fc061f"
      },
      "execution_count": 93,
      "outputs": [
        {
          "output_type": "stream",
          "name": "stdout",
          "text": [
            "Ingresa un numero: 15\n",
            "El numero es divisible por 3\n",
            "El numero es divisible por 5\n"
          ]
        }
      ]
    },
    {
      "cell_type": "code",
      "source": [],
      "metadata": {
        "id": "OuRQaanFLRq8"
      },
      "execution_count": null,
      "outputs": []
    }
  ]
}